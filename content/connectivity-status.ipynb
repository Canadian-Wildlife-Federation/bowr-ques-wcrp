{
 "cells": [
  {
   "cell_type": "code",
   "execution_count": null,
   "id": "bb8cb195",
   "metadata": {},
   "outputs": [],
   "source": [
    "import warnings\n",
    "import pandas as pd\n",
    "import numpy as np\n",
    "import python.api_calls as api\n",
    "import python.connectivity_assess as conn_table\n",
    "\n",
    "\n",
    "warnings.filterwarnings('ignore')\n"
   ]
  },
  {
   "cell_type": "markdown",
   "id": "f181b920",
   "metadata": {},
   "source": [
    "# Connectivity Status Assessment and Goals {-}\n",
    "\n",
    "## Connectivity Status Assessment {-}\n",
    "\n",
    "The planning team devised two Key Ecological Attributes (KEAs) and associated indicators to assess the current connectivity status of the watershed – Accessible Habitat and Accessible Overwintering Habitat (@tbl-connectivity). KEAs are the key aspects of anadromous salmon ecology that are being targeted by this WCRP. The connectivity status of Anadromous Salmon was used to establish goals to improve habitat connectivity in the watershed and will be the baseline against which progress is tracked over time. \n",
    "\n",
    "The current connectivity status assessment relies on GIS analyses to map known and modelled barriers to fish passage, identify stream reaches that have potential spawning and rearing habitat, estimate the proportion of habitat that is currently accessible to target species, and prioritize barriers for field assessment that would provide the greatest gains in connectivity. To support a flexible prioritization framework to identify priority barriers in the watershed, two assumptions are made: 1,any modelled (i.e., passability status is unknown) or partial barriers are treated as complete barriers to passage and 2, the habitat modelling is binary, it does not assign any habitat quality values. As such, the current connectivity status will be refined over time as more data on habitat and barriers are collected. For more detail on how the connectivity status assessments were conducted, see Appendix B. \n"
   ]
  },
  {
   "cell_type": "code",
   "execution_count": 11,
   "id": "tbl-connectivity",
   "metadata": {},
   "outputs": [
    {
     "data": {
      "text/html": [
       "<style type=\"text/css\">\n",
       "#T_78751 th {\n",
       "  background-color: #008270;\n",
       "  text-align: left;\n",
       "}\n",
       "#T_78751_row0_col0, #T_78751_row0_col1, #T_78751_row0_col2, #T_78751_row1_col0, #T_78751_row1_col1, #T_78751_row1_col3, #T_78751_row1_col4, #T_78751_row1_col5 {\n",
       "  background-color: white;\n",
       "}\n",
       "#T_78751_row0_col3 {\n",
       "  background-color: #ff0000;\n",
       "}\n",
       "#T_78751_row0_col4 {\n",
       "  background-color: #ffff00;\n",
       "}\n",
       "#T_78751_row0_col5 {\n",
       "  background-color: #92d050;\n",
       "}\n",
       "#T_78751_row0_col6, #T_78751_row1_col6 {\n",
       "  background-color: #03853e;\n",
       "}\n",
       "#T_78751_row1_col2 {\n",
       "  font-weight: bold;\n",
       "}\n",
       "</style>\n",
       "<table id=\"T_78751\">\n",
       "  <thead>\n",
       "    <tr>\n",
       "      <th id=\"T_78751_level0_col0\" class=\"col_heading level0 col0\" >Target Species</th>\n",
       "      <th id=\"T_78751_level0_col1\" class=\"col_heading level0 col1\" >KEA</th>\n",
       "      <th id=\"T_78751_level0_col2\" class=\"col_heading level0 col2\" >Indicator</th>\n",
       "      <th id=\"T_78751_level0_col3\" class=\"col_heading level0 col3\" >Poor</th>\n",
       "      <th id=\"T_78751_level0_col4\" class=\"col_heading level0 col4\" >Fair</th>\n",
       "      <th id=\"T_78751_level0_col5\" class=\"col_heading level0 col5\" >Good</th>\n",
       "      <th id=\"T_78751_level0_col6\" class=\"col_heading level0 col6\" >Very Good</th>\n",
       "    </tr>\n",
       "  </thead>\n",
       "  <tbody>\n",
       "    <tr>\n",
       "      <td id=\"T_78751_row0_col0\" class=\"data row0 col0\" >Andromous Salmon</td>\n",
       "      <td id=\"T_78751_row0_col1\" class=\"data row0 col1\" >Available Habitat</td>\n",
       "      <td id=\"T_78751_row0_col2\" class=\"data row0 col2\" >% of total linear habitat</td>\n",
       "      <td id=\"T_78751_row0_col3\" class=\"data row0 col3\" ><80%</td>\n",
       "      <td id=\"T_78751_row0_col4\" class=\"data row0 col4\" >-</td>\n",
       "      <td id=\"T_78751_row0_col5\" class=\"data row0 col5\" >81-90%</td>\n",
       "      <td id=\"T_78751_row0_col6\" class=\"data row0 col6\" >>90%</td>\n",
       "    </tr>\n",
       "    <tr>\n",
       "      <td id=\"T_78751_row1_col0\" class=\"data row1 col0\" > </td>\n",
       "      <td id=\"T_78751_row1_col1\" class=\"data row1 col1\" > </td>\n",
       "      <td id=\"T_78751_row1_col2\" class=\"data row1 col2\" >Current Status:</td>\n",
       "      <td id=\"T_78751_row1_col3\" class=\"data row1 col3\" > </td>\n",
       "      <td id=\"T_78751_row1_col4\" class=\"data row1 col4\" > </td>\n",
       "      <td id=\"T_78751_row1_col5\" class=\"data row1 col5\" > </td>\n",
       "      <td id=\"T_78751_row1_col6\" class=\"data row1 col6\" >170</td>\n",
       "    </tr>\n",
       "  </tbody>\n",
       "</table>\n"
      ],
      "text/plain": [
       "<pandas.io.formats.style.Styler at 0x1862b566300>"
      ]
     },
     "execution_count": 11,
     "metadata": {},
     "output_type": "execute_result"
    }
   ],
   "source": [
    "#| label: tbl-connectivity\n",
    "#| tbl-cap: Connectivity status assessment for spawning (a) and rearing (b) habitat in the Bulkley River watershed. The two KEAs - Accessible Spawning Habitat and Accessible Rearing Habitat - are evaluated by dividing the length of linear habitat (of each type) that is currently accessible to target species by the total length of all linear habitat (of each type) in the watershed.\n",
    "#| warning: false\n",
    "#| echo: false\n",
    "\n",
    "df = conn_table.make_assess_table(\"Andromous Salmon\", \"Available Habitat\", \"% of total linear habitat\", 80, -1, 90, api.connect)\n",
    "df"
   ]
  },
  {
   "cell_type": "markdown",
   "id": "9bf7b532",
   "metadata": {},
   "source": [
    "**Comments:** Indicator rating definitions are based on the consensus decisions of the planning team, including the decision not to define Fair. The current status is based on the CWF Barrier Prioritization Model output, which is current as of March 2022.\n"
   ]
  },
  {
   "cell_type": "code",
   "execution_count": 12,
   "id": "fc676255",
   "metadata": {},
   "outputs": [
    {
     "data": {
      "text/html": [
       "<style type=\"text/css\">\n",
       "#T_77efc th {\n",
       "  background-color: #008270;\n",
       "  text-align: left;\n",
       "}\n",
       "#T_77efc_row0_col0, #T_77efc_row0_col1, #T_77efc_row0_col2, #T_77efc_row1_col0, #T_77efc_row1_col1, #T_77efc_row1_col3, #T_77efc_row1_col4, #T_77efc_row1_col5, #T_77efc_row1_col6 {\n",
       "  background-color: white;\n",
       "}\n",
       "#T_77efc_row0_col3 {\n",
       "  background-color: #ff0000;\n",
       "}\n",
       "#T_77efc_row0_col4 {\n",
       "  background-color: #ffff00;\n",
       "}\n",
       "#T_77efc_row0_col5 {\n",
       "  background-color: #92d050;\n",
       "}\n",
       "#T_77efc_row0_col6 {\n",
       "  background-color: #03853e;\n",
       "}\n",
       "#T_77efc_row1_col2 {\n",
       "  font-weight: bold;\n",
       "}\n",
       "</style>\n",
       "<table id=\"T_77efc\">\n",
       "  <thead>\n",
       "    <tr>\n",
       "      <th id=\"T_77efc_level0_col0\" class=\"col_heading level0 col0\" >Target Species</th>\n",
       "      <th id=\"T_77efc_level0_col1\" class=\"col_heading level0 col1\" >KEA</th>\n",
       "      <th id=\"T_77efc_level0_col2\" class=\"col_heading level0 col2\" >Indicator</th>\n",
       "      <th id=\"T_77efc_level0_col3\" class=\"col_heading level0 col3\" >Poor</th>\n",
       "      <th id=\"T_77efc_level0_col4\" class=\"col_heading level0 col4\" >Fair</th>\n",
       "      <th id=\"T_77efc_level0_col5\" class=\"col_heading level0 col5\" >Good</th>\n",
       "      <th id=\"T_77efc_level0_col6\" class=\"col_heading level0 col6\" >Very Good</th>\n",
       "    </tr>\n",
       "  </thead>\n",
       "  <tbody>\n",
       "    <tr>\n",
       "      <td id=\"T_77efc_row0_col0\" class=\"data row0 col0\" >Andromous Salmon</td>\n",
       "      <td id=\"T_77efc_row0_col1\" class=\"data row0 col1\" >Available Overwintering Habitat</td>\n",
       "      <td id=\"T_77efc_row0_col2\" class=\"data row0 col2\" >Total Area (m2) of overwintering habitat accessible</td>\n",
       "      <td id=\"T_77efc_row0_col3\" class=\"data row0 col3\" >?</td>\n",
       "      <td id=\"T_77efc_row0_col4\" class=\"data row0 col4\" > ?</td>\n",
       "      <td id=\"T_77efc_row0_col5\" class=\"data row0 col5\" >? </td>\n",
       "      <td id=\"T_77efc_row0_col6\" class=\"data row0 col6\" > ? </td>\n",
       "    </tr>\n",
       "    <tr>\n",
       "      <td id=\"T_77efc_row1_col0\" class=\"data row1 col0\" > </td>\n",
       "      <td id=\"T_77efc_row1_col1\" class=\"data row1 col1\" > </td>\n",
       "      <td id=\"T_77efc_row1_col2\" class=\"data row1 col2\" >Current Status:</td>\n",
       "      <td id=\"T_77efc_row1_col3\" class=\"data row1 col3\" > </td>\n",
       "      <td id=\"T_77efc_row1_col4\" class=\"data row1 col4\" > </td>\n",
       "      <td id=\"T_77efc_row1_col5\" class=\"data row1 col5\" > </td>\n",
       "      <td id=\"T_77efc_row1_col6\" class=\"data row1 col6\" > </td>\n",
       "    </tr>\n",
       "  </tbody>\n",
       "</table>\n"
      ],
      "text/plain": [
       "<pandas.io.formats.style.Styler at 0x1862b566b70>"
      ]
     },
     "execution_count": 12,
     "metadata": {},
     "output_type": "execute_result"
    }
   ],
   "source": [
    "#| warning: false\n",
    "#| echo: false\n",
    "\n",
    "df = conn_table.make_assess_table(\"Andromous Salmon\", \"Available Overwintering Habitat\", \"Total Area (m2) of overwintering habitat accessible\", \"?\", \" ?\", \"? \", api.connect)\n",
    "df\n"
   ]
  },
  {
   "cell_type": "markdown",
   "id": "da4ba01f",
   "metadata": {},
   "source": [
    "**Comments:** No baseline data exists on the extent of overwintering habitat in the watershed. A priority action is included in the Operational Plan (strategy 2.3) to develop a habitat layer, and this will be used to inform this connectivity status assessment in the future.\n",
    "\n",
    "\n",
    "## Goals {-}\n"
   ]
  },
  {
   "cell_type": "code",
   "execution_count": 13,
   "id": "tbl-goals",
   "metadata": {},
   "outputs": [
    {
     "data": {
      "text/html": [
       "<style type=\"text/css\">\n",
       "#T_e1d44 th {\n",
       "  background-color: #008270;\n",
       "  text-align: left;\n",
       "}\n",
       "#T_e1d44_row0_col0, #T_e1d44_row0_col1, #T_e1d44_row1_col0, #T_e1d44_row1_col1 {\n",
       "  text-align: left;\n",
       "}\n",
       "</style>\n",
       "<table id=\"T_e1d44\">\n",
       "  <thead>\n",
       "    <tr>\n",
       "      <th id=\"T_e1d44_level0_col0\" class=\"col_heading level0 col0\" >Goal #</th>\n",
       "      <th id=\"T_e1d44_level0_col1\" class=\"col_heading level0 col1\" >Goal</th>\n",
       "    </tr>\n",
       "  </thead>\n",
       "  <tbody>\n",
       "    <tr>\n",
       "      <td id=\"T_e1d44_row0_col0\" class=\"data row0 col0\" >1</td>\n",
       "      <td id=\"T_e1d44_row0_col1\" class=\"data row0 col1\" >By 2040, the percent (%) of total linear habitat accessible to anadromous salmon will increase from 170%  to 96% within the Horsefly River watershed (i.e., reconnect at least 261.97 of habitat).</td>\n",
       "    </tr>\n",
       "    <tr>\n",
       "      <td id=\"T_e1d44_row1_col0\" class=\"data row1 col0\" >2</td>\n",
       "      <td id=\"T_e1d44_row1_col1\" class=\"data row1 col1\" >By 2024, the total area of overwintering habitat accessible to Anadromous Salmon will increase by 1,500 m2 within the Horsefly River watershed. </td>\n",
       "    </tr>\n",
       "  </tbody>\n",
       "</table>\n"
      ],
      "text/plain": [
       "<pandas.io.formats.style.Styler at 0x1862b5669c0>"
      ]
     },
     "execution_count": 13,
     "metadata": {},
     "output_type": "execute_result"
    }
   ],
   "source": [
    "#| label: tbl-goals\n",
    "#| tbl-cap: 'Goals to improve (1) spawning and rearing and (2) overwintering habitat connectivity for target species in the Horsefly River watershed over the lifespan of the WCRP (2021-2040). The goals were established through discussions with the planning team and represent the resulting desired state of connectivity in the watershed. The goals are subject to change as more information and data are collected over the course of the plan timeline (e.g., the current connectivity status is updated based on barrier field assessments).'\n",
    "#| warning: false\n",
    "#| echo: false\n",
    "df = pd.DataFrame({\"Goal #\": [1,2],\n",
    "                   \"Goal\": [\"By 2040, the percent (%) of total linear habitat accessible to anadromous salmon will increase from \" + str(api.watershed_connectivity(\"ALL\")[0])+\"% \" + \" to 96% within the Horsefly River watershed (i.e., reconnect at least \"+ str(api.gain) +\" of habitat).\",\n",
    "                            \"By 2024, the total area of overwintering habitat accessible to Anadromous Salmon will increase by 1,500 m2 within the Horsefly River watershed. \"]\n",
    "                    })\n",
    "\n",
    "data = df.style.hide().set_properties(**{'text-align': 'left'})\n",
    "\n",
    "data.set_table_styles(\n",
    "   [{\n",
    "       'selector': 'th',\n",
    "       'props': [('background-color', '#008270'),('text-align', 'left')]\n",
    "   }])"
   ]
  }
 ],
 "metadata": {
  "kernelspec": {
   "display_name": "Python 3",
   "language": "python",
   "name": "python3"
  },
  "language_info": {
   "codemirror_mode": {
    "name": "ipython",
    "version": 3
   },
   "file_extension": ".py",
   "mimetype": "text/x-python",
   "name": "python",
   "nbconvert_exporter": "python",
   "pygments_lexer": "ipython3",
   "version": "3.12.0"
  }
 },
 "nbformat": 4,
 "nbformat_minor": 5
}
